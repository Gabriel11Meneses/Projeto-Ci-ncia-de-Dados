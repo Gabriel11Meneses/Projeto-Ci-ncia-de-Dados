{
  "nbformat": 4,
  "nbformat_minor": 0,
  "metadata": {
    "colab": {
      "name": "FlorestaPanda_python_project_1 (1).ipynb",
      "provenance": [],
      "collapsed_sections": []
    },
    "kernelspec": {
      "name": "python3",
      "display_name": "Python 3"
    },
    "language_info": {
      "name": "python"
    }
  },
  "cells": [
    {
      "cell_type": "markdown",
      "metadata": {
        "id": "4DQY2I-pi5kL"
      },
      "source": [
        "Entender o reflorestamento no brasil de 2006 a 2016"
      ]
    },
    {
      "cell_type": "code",
      "metadata": {
        "id": "WOmBgFPf5oKU",
        "colab": {
          "base_uri": "https://localhost:8080/"
        },
        "outputId": "ecde4fc4-8b7c-48c9-a865-56ed21bb5a85"
      },
      "source": [
        "from google.colab import drive\n",
        "drive.mount('/content/drive')"
      ],
      "execution_count": 233,
      "outputs": [
        {
          "output_type": "stream",
          "text": [
            "Drive already mounted at /content/drive; to attempt to forcibly remount, call drive.mount(\"/content/drive\", force_remount=True).\n"
          ],
          "name": "stdout"
        }
      ]
    },
    {
      "cell_type": "code",
      "metadata": {
        "id": "7ZVd3LMQJIK9"
      },
      "source": [
        "import pandas as pd\n",
        "import matplotlib.pyplot as plt\n",
        "import numpy as np\n",
        "import seaborn as sns\n",
        "import sklearn as sk\n",
        "from sklearn.linear_model import SGDRegressor\n",
        "\n"
      ],
      "execution_count": 234,
      "outputs": []
    },
    {
      "cell_type": "code",
      "metadata": {
        "id": "5OOpBao_nU82"
      },
      "source": [
        ""
      ],
      "execution_count": 234,
      "outputs": []
    },
    {
      "cell_type": "markdown",
      "metadata": {
        "id": "UWujNllPMg_N"
      },
      "source": [
        "Importando o csv"
      ]
    },
    {
      "cell_type": "code",
      "metadata": {
        "id": "TghZrn82MkgE"
      },
      "source": [
        "florestas_plantadas= pd.read_csv('/content/drive/MyDrive/rf_florestasplantadas_iba_2006-2016.csv', encoding='utf-8', sep = ';', index_col=0)"
      ],
      "execution_count": 235,
      "outputs": []
    },
    {
      "cell_type": "code",
      "metadata": {
        "id": "bYiJjLGglhzR"
      },
      "source": [
        ""
      ],
      "execution_count": 235,
      "outputs": []
    },
    {
      "cell_type": "markdown",
      "metadata": {
        "id": "kz0YtxDgNHrS"
      },
      "source": [
        "Inspecionando o DataFrame (Desmatamento de Biomas por Estados)"
      ]
    },
    {
      "cell_type": "code",
      "metadata": {
        "id": "nzSs1KdMNE9O",
        "colab": {
          "base_uri": "https://localhost:8080/"
        },
        "outputId": "c6ea47a1-85fa-4ca3-cd68-519d145a6ed2"
      },
      "source": [
        "type(florestas_plantadas)"
      ],
      "execution_count": 236,
      "outputs": [
        {
          "output_type": "execute_result",
          "data": {
            "text/plain": [
              "pandas.core.frame.DataFrame"
            ]
          },
          "metadata": {
            "tags": []
          },
          "execution_count": 236
        }
      ]
    },
    {
      "cell_type": "code",
      "metadata": {
        "id": "t17sUeU5NRGs",
        "colab": {
          "base_uri": "https://localhost:8080/"
        },
        "outputId": "47fd7559-6a98-41b1-e9fa-77351db033de"
      },
      "source": [
        "florestas_plantadas.info()"
      ],
      "execution_count": 237,
      "outputs": [
        {
          "output_type": "stream",
          "text": [
            "<class 'pandas.core.frame.DataFrame'>\n",
            "Index: 366 entries, 31/12/2006 to 31/12/2016\n",
            "Data columns (total 4 columns):\n",
            " #   Column     Non-Null Count  Dtype  \n",
            "---  ------     --------------  -----  \n",
            " 0   Cultura    366 non-null    object \n",
            " 1   Espécie    366 non-null    object \n",
            " 2   Estado     366 non-null    object \n",
            " 3   Área (ha)  365 non-null    float64\n",
            "dtypes: float64(1), object(3)\n",
            "memory usage: 14.3+ KB\n"
          ],
          "name": "stdout"
        }
      ]
    },
    {
      "cell_type": "code",
      "metadata": {
        "id": "GCixmYl4Nadf",
        "colab": {
          "base_uri": "https://localhost:8080/"
        },
        "outputId": "4c7f97b7-c8a3-4e76-bc80-c37e76d602dc"
      },
      "source": [
        "florestas_plantadas.shape"
      ],
      "execution_count": 238,
      "outputs": [
        {
          "output_type": "execute_result",
          "data": {
            "text/plain": [
              "(366, 4)"
            ]
          },
          "metadata": {
            "tags": []
          },
          "execution_count": 238
        }
      ]
    },
    {
      "cell_type": "code",
      "metadata": {
        "id": "SW7lyArXNejH",
        "colab": {
          "base_uri": "https://localhost:8080/"
        },
        "outputId": "9a062c55-e0e6-45fe-eaac-bcdf9c6dbdeb"
      },
      "source": [
        "florestas_plantadas.columns"
      ],
      "execution_count": 239,
      "outputs": [
        {
          "output_type": "execute_result",
          "data": {
            "text/plain": [
              "Index(['Cultura', 'Espécie', 'Estado', 'Área (ha)'], dtype='object')"
            ]
          },
          "metadata": {
            "tags": []
          },
          "execution_count": 239
        }
      ]
    },
    {
      "cell_type": "code",
      "metadata": {
        "id": "VprOpNE8NjuA",
        "colab": {
          "base_uri": "https://localhost:8080/",
          "height": 235
        },
        "outputId": "5be7bd8c-0b6c-4837-e4a3-4a3a0023b081"
      },
      "source": [
        "florestas_plantadas.head()"
      ],
      "execution_count": 240,
      "outputs": [
        {
          "output_type": "execute_result",
          "data": {
            "text/html": [
              "<div>\n",
              "<style scoped>\n",
              "    .dataframe tbody tr th:only-of-type {\n",
              "        vertical-align: middle;\n",
              "    }\n",
              "\n",
              "    .dataframe tbody tr th {\n",
              "        vertical-align: top;\n",
              "    }\n",
              "\n",
              "    .dataframe thead th {\n",
              "        text-align: right;\n",
              "    }\n",
              "</style>\n",
              "<table border=\"1\" class=\"dataframe\">\n",
              "  <thead>\n",
              "    <tr style=\"text-align: right;\">\n",
              "      <th></th>\n",
              "      <th>Cultura</th>\n",
              "      <th>Espécie</th>\n",
              "      <th>Estado</th>\n",
              "      <th>Área (ha)</th>\n",
              "    </tr>\n",
              "    <tr>\n",
              "      <th>Ano</th>\n",
              "      <th></th>\n",
              "      <th></th>\n",
              "      <th></th>\n",
              "      <th></th>\n",
              "    </tr>\n",
              "  </thead>\n",
              "  <tbody>\n",
              "    <tr>\n",
              "      <th>31/12/2006</th>\n",
              "      <td>Eucalipto</td>\n",
              "      <td>Eucalipto</td>\n",
              "      <td>Minas Gerais</td>\n",
              "      <td>1181429.0</td>\n",
              "    </tr>\n",
              "    <tr>\n",
              "      <th>31/12/2006</th>\n",
              "      <td>Eucalipto</td>\n",
              "      <td>Eucalipto</td>\n",
              "      <td>São Paulo</td>\n",
              "      <td>915841.0</td>\n",
              "    </tr>\n",
              "    <tr>\n",
              "      <th>31/12/2006</th>\n",
              "      <td>Eucalipto</td>\n",
              "      <td>Eucalipto</td>\n",
              "      <td>Mato Grosso do Sul</td>\n",
              "      <td>119319.0</td>\n",
              "    </tr>\n",
              "    <tr>\n",
              "      <th>31/12/2006</th>\n",
              "      <td>Eucalipto</td>\n",
              "      <td>Eucalipto</td>\n",
              "      <td>Bahia</td>\n",
              "      <td>540172.0</td>\n",
              "    </tr>\n",
              "    <tr>\n",
              "      <th>31/12/2006</th>\n",
              "      <td>Eucalipto</td>\n",
              "      <td>Eucalipto</td>\n",
              "      <td>Rio Grande do Sul</td>\n",
              "      <td>184245.0</td>\n",
              "    </tr>\n",
              "  </tbody>\n",
              "</table>\n",
              "</div>"
            ],
            "text/plain": [
              "              Cultura    Espécie              Estado  Área (ha)\n",
              "Ano                                                            \n",
              "31/12/2006  Eucalipto  Eucalipto        Minas Gerais  1181429.0\n",
              "31/12/2006  Eucalipto  Eucalipto           São Paulo   915841.0\n",
              "31/12/2006  Eucalipto  Eucalipto  Mato Grosso do Sul   119319.0\n",
              "31/12/2006  Eucalipto  Eucalipto               Bahia   540172.0\n",
              "31/12/2006  Eucalipto  Eucalipto   Rio Grande do Sul   184245.0"
            ]
          },
          "metadata": {
            "tags": []
          },
          "execution_count": 240
        }
      ]
    },
    {
      "cell_type": "code",
      "metadata": {
        "id": "WKQxxoaNNvpL",
        "colab": {
          "base_uri": "https://localhost:8080/",
          "height": 235
        },
        "outputId": "7b74f367-6101-43ee-a926-2820388ff7db"
      },
      "source": [
        "florestas_plantadas.tail()"
      ],
      "execution_count": 241,
      "outputs": [
        {
          "output_type": "execute_result",
          "data": {
            "text/html": [
              "<div>\n",
              "<style scoped>\n",
              "    .dataframe tbody tr th:only-of-type {\n",
              "        vertical-align: middle;\n",
              "    }\n",
              "\n",
              "    .dataframe tbody tr th {\n",
              "        vertical-align: top;\n",
              "    }\n",
              "\n",
              "    .dataframe thead th {\n",
              "        text-align: right;\n",
              "    }\n",
              "</style>\n",
              "<table border=\"1\" class=\"dataframe\">\n",
              "  <thead>\n",
              "    <tr style=\"text-align: right;\">\n",
              "      <th></th>\n",
              "      <th>Cultura</th>\n",
              "      <th>Espécie</th>\n",
              "      <th>Estado</th>\n",
              "      <th>Área (ha)</th>\n",
              "    </tr>\n",
              "    <tr>\n",
              "      <th>Ano</th>\n",
              "      <th></th>\n",
              "      <th></th>\n",
              "      <th></th>\n",
              "      <th></th>\n",
              "    </tr>\n",
              "  </thead>\n",
              "  <tbody>\n",
              "    <tr>\n",
              "      <th>31/12/2016</th>\n",
              "      <td>Outras culturas</td>\n",
              "      <td>Teca</td>\n",
              "      <td>Não informado</td>\n",
              "      <td>87502.0</td>\n",
              "    </tr>\n",
              "    <tr>\n",
              "      <th>31/12/2016</th>\n",
              "      <td>Outras culturas</td>\n",
              "      <td>Paricá</td>\n",
              "      <td>Não informado</td>\n",
              "      <td>90047.0</td>\n",
              "    </tr>\n",
              "    <tr>\n",
              "      <th>31/12/2016</th>\n",
              "      <td>Outras culturas</td>\n",
              "      <td>Araucária</td>\n",
              "      <td>Não informado</td>\n",
              "      <td>11114.0</td>\n",
              "    </tr>\n",
              "    <tr>\n",
              "      <th>31/12/2016</th>\n",
              "      <td>Outras culturas</td>\n",
              "      <td>Pópulus</td>\n",
              "      <td>Não informado</td>\n",
              "      <td>4216.0</td>\n",
              "    </tr>\n",
              "    <tr>\n",
              "      <th>31/12/2016</th>\n",
              "      <td>Outras culturas</td>\n",
              "      <td>Outras</td>\n",
              "      <td>Não informado</td>\n",
              "      <td>6641.0</td>\n",
              "    </tr>\n",
              "  </tbody>\n",
              "</table>\n",
              "</div>"
            ],
            "text/plain": [
              "                    Cultura    Espécie         Estado  Área (ha)\n",
              "Ano                                                             \n",
              "31/12/2016  Outras culturas       Teca  Não informado    87502.0\n",
              "31/12/2016  Outras culturas     Paricá  Não informado    90047.0\n",
              "31/12/2016  Outras culturas  Araucária  Não informado    11114.0\n",
              "31/12/2016  Outras culturas    Pópulus  Não informado     4216.0\n",
              "31/12/2016  Outras culturas     Outras  Não informado     6641.0"
            ]
          },
          "metadata": {
            "tags": []
          },
          "execution_count": 241
        }
      ]
    },
    {
      "cell_type": "code",
      "metadata": {
        "id": "F5ezF1oJSE3-",
        "colab": {
          "base_uri": "https://localhost:8080/",
          "height": 450
        },
        "outputId": "b474358d-1143-43e5-859a-49517cd4c2db"
      },
      "source": [
        "florestas_plantadas.sort_index()"
      ],
      "execution_count": 242,
      "outputs": [
        {
          "output_type": "execute_result",
          "data": {
            "text/html": [
              "<div>\n",
              "<style scoped>\n",
              "    .dataframe tbody tr th:only-of-type {\n",
              "        vertical-align: middle;\n",
              "    }\n",
              "\n",
              "    .dataframe tbody tr th {\n",
              "        vertical-align: top;\n",
              "    }\n",
              "\n",
              "    .dataframe thead th {\n",
              "        text-align: right;\n",
              "    }\n",
              "</style>\n",
              "<table border=\"1\" class=\"dataframe\">\n",
              "  <thead>\n",
              "    <tr style=\"text-align: right;\">\n",
              "      <th></th>\n",
              "      <th>Cultura</th>\n",
              "      <th>Espécie</th>\n",
              "      <th>Estado</th>\n",
              "      <th>Área (ha)</th>\n",
              "    </tr>\n",
              "    <tr>\n",
              "      <th>Ano</th>\n",
              "      <th></th>\n",
              "      <th></th>\n",
              "      <th></th>\n",
              "      <th></th>\n",
              "    </tr>\n",
              "  </thead>\n",
              "  <tbody>\n",
              "    <tr>\n",
              "      <th>31/12/2006</th>\n",
              "      <td>Eucalipto</td>\n",
              "      <td>Eucalipto</td>\n",
              "      <td>Minas Gerais</td>\n",
              "      <td>1181429.0</td>\n",
              "    </tr>\n",
              "    <tr>\n",
              "      <th>31/12/2006</th>\n",
              "      <td>Pinus</td>\n",
              "      <td>Pinus</td>\n",
              "      <td>Amapá</td>\n",
              "      <td>20490.0</td>\n",
              "    </tr>\n",
              "    <tr>\n",
              "      <th>31/12/2006</th>\n",
              "      <td>Pinus</td>\n",
              "      <td>Pinus</td>\n",
              "      <td>Tocantins</td>\n",
              "      <td>3647.0</td>\n",
              "    </tr>\n",
              "    <tr>\n",
              "      <th>31/12/2006</th>\n",
              "      <td>Pinus</td>\n",
              "      <td>Pinus</td>\n",
              "      <td>Espírito Santo</td>\n",
              "      <td>4408.0</td>\n",
              "    </tr>\n",
              "    <tr>\n",
              "      <th>31/12/2006</th>\n",
              "      <td>Pinus</td>\n",
              "      <td>Pinus</td>\n",
              "      <td>Bahia</td>\n",
              "      <td>54820.0</td>\n",
              "    </tr>\n",
              "    <tr>\n",
              "      <th>...</th>\n",
              "      <td>...</td>\n",
              "      <td>...</td>\n",
              "      <td>...</td>\n",
              "      <td>...</td>\n",
              "    </tr>\n",
              "    <tr>\n",
              "      <th>31/12/2016</th>\n",
              "      <td>Pinus</td>\n",
              "      <td>Pinus</td>\n",
              "      <td>Bahia</td>\n",
              "      <td>3301.0</td>\n",
              "    </tr>\n",
              "    <tr>\n",
              "      <th>31/12/2016</th>\n",
              "      <td>Pinus</td>\n",
              "      <td>Pinus</td>\n",
              "      <td>Espírito Santo</td>\n",
              "      <td>2500.0</td>\n",
              "    </tr>\n",
              "    <tr>\n",
              "      <th>31/12/2016</th>\n",
              "      <td>Pinus</td>\n",
              "      <td>Pinus</td>\n",
              "      <td>Tocantins</td>\n",
              "      <td>200.0</td>\n",
              "    </tr>\n",
              "    <tr>\n",
              "      <th>31/12/2016</th>\n",
              "      <td>Eucalipto</td>\n",
              "      <td>Eucalipto</td>\n",
              "      <td>São Paulo</td>\n",
              "      <td>946124.0</td>\n",
              "    </tr>\n",
              "    <tr>\n",
              "      <th>31/12/2016</th>\n",
              "      <td>Outras culturas</td>\n",
              "      <td>Outras</td>\n",
              "      <td>Não informado</td>\n",
              "      <td>6641.0</td>\n",
              "    </tr>\n",
              "  </tbody>\n",
              "</table>\n",
              "<p>366 rows × 4 columns</p>\n",
              "</div>"
            ],
            "text/plain": [
              "                    Cultura    Espécie          Estado  Área (ha)\n",
              "Ano                                                              \n",
              "31/12/2006        Eucalipto  Eucalipto    Minas Gerais  1181429.0\n",
              "31/12/2006            Pinus      Pinus           Amapá    20490.0\n",
              "31/12/2006            Pinus      Pinus       Tocantins     3647.0\n",
              "31/12/2006            Pinus      Pinus  Espírito Santo     4408.0\n",
              "31/12/2006            Pinus      Pinus           Bahia    54820.0\n",
              "...                     ...        ...             ...        ...\n",
              "31/12/2016            Pinus      Pinus           Bahia     3301.0\n",
              "31/12/2016            Pinus      Pinus  Espírito Santo     2500.0\n",
              "31/12/2016            Pinus      Pinus       Tocantins      200.0\n",
              "31/12/2016        Eucalipto  Eucalipto       São Paulo   946124.0\n",
              "31/12/2016  Outras culturas     Outras   Não informado     6641.0\n",
              "\n",
              "[366 rows x 4 columns]"
            ]
          },
          "metadata": {
            "tags": []
          },
          "execution_count": 242
        }
      ]
    },
    {
      "cell_type": "markdown",
      "metadata": {
        "id": "DbixFbvMZ6CE"
      },
      "source": [
        "Manipulando o DataFrame"
      ]
    },
    {
      "cell_type": "markdown",
      "metadata": {
        "id": "TlxXQJnOeoUm"
      },
      "source": [
        "####################################"
      ]
    },
    {
      "cell_type": "markdown",
      "metadata": {
        "id": "w8m5ebByeje4"
      },
      "source": [
        "Separando por Area Desmatada"
      ]
    },
    {
      "cell_type": "code",
      "metadata": {
        "id": "csDfS92davta",
        "colab": {
          "base_uri": "https://localhost:8080/"
        },
        "outputId": "c0baeeb4-6e2e-414b-b84a-eff0512c2888"
      },
      "source": [
        "florestas_plantadas.columns"
      ],
      "execution_count": 243,
      "outputs": [
        {
          "output_type": "execute_result",
          "data": {
            "text/plain": [
              "Index(['Cultura', 'Espécie', 'Estado', 'Área (ha)'], dtype='object')"
            ]
          },
          "metadata": {
            "tags": []
          },
          "execution_count": 243
        }
      ]
    },
    {
      "cell_type": "code",
      "metadata": {
        "id": "Pj_oXxJ2Z-PR"
      },
      "source": [
        "area_plantada = florestas_plantadas['Área (ha)']\n"
      ],
      "execution_count": 244,
      "outputs": []
    },
    {
      "cell_type": "code",
      "metadata": {
        "id": "YGpXP_aqbkqw",
        "colab": {
          "base_uri": "https://localhost:8080/"
        },
        "outputId": "1df46122-c578-40e4-f730-dbe80aef5b15"
      },
      "source": [
        "area_plantada.head().sort_index()"
      ],
      "execution_count": 245,
      "outputs": [
        {
          "output_type": "execute_result",
          "data": {
            "text/plain": [
              "Ano\n",
              "31/12/2006    1181429.0\n",
              "31/12/2006     915841.0\n",
              "31/12/2006     119319.0\n",
              "31/12/2006     540172.0\n",
              "31/12/2006     184245.0\n",
              "Name: Área (ha), dtype: float64"
            ]
          },
          "metadata": {
            "tags": []
          },
          "execution_count": 245
        }
      ]
    },
    {
      "cell_type": "markdown",
      "metadata": {
        "id": "YeSL3Rsmerhq"
      },
      "source": [
        "Separando por Periodo"
      ]
    },
    {
      "cell_type": "code",
      "metadata": {
        "id": "INOfFhDCe3QZ"
      },
      "source": [
        "cultura_plantio = florestas_plantadas['Cultura']"
      ],
      "execution_count": 246,
      "outputs": []
    },
    {
      "cell_type": "code",
      "metadata": {
        "id": "jBHnZoCIfEl5",
        "colab": {
          "base_uri": "https://localhost:8080/",
          "height": 235
        },
        "outputId": "83bb00e1-a9f1-4cbe-b66d-02a80dbf2bc8"
      },
      "source": [
        "florestas_plantadas.head().sort_index()"
      ],
      "execution_count": 247,
      "outputs": [
        {
          "output_type": "execute_result",
          "data": {
            "text/html": [
              "<div>\n",
              "<style scoped>\n",
              "    .dataframe tbody tr th:only-of-type {\n",
              "        vertical-align: middle;\n",
              "    }\n",
              "\n",
              "    .dataframe tbody tr th {\n",
              "        vertical-align: top;\n",
              "    }\n",
              "\n",
              "    .dataframe thead th {\n",
              "        text-align: right;\n",
              "    }\n",
              "</style>\n",
              "<table border=\"1\" class=\"dataframe\">\n",
              "  <thead>\n",
              "    <tr style=\"text-align: right;\">\n",
              "      <th></th>\n",
              "      <th>Cultura</th>\n",
              "      <th>Espécie</th>\n",
              "      <th>Estado</th>\n",
              "      <th>Área (ha)</th>\n",
              "    </tr>\n",
              "    <tr>\n",
              "      <th>Ano</th>\n",
              "      <th></th>\n",
              "      <th></th>\n",
              "      <th></th>\n",
              "      <th></th>\n",
              "    </tr>\n",
              "  </thead>\n",
              "  <tbody>\n",
              "    <tr>\n",
              "      <th>31/12/2006</th>\n",
              "      <td>Eucalipto</td>\n",
              "      <td>Eucalipto</td>\n",
              "      <td>Minas Gerais</td>\n",
              "      <td>1181429.0</td>\n",
              "    </tr>\n",
              "    <tr>\n",
              "      <th>31/12/2006</th>\n",
              "      <td>Eucalipto</td>\n",
              "      <td>Eucalipto</td>\n",
              "      <td>São Paulo</td>\n",
              "      <td>915841.0</td>\n",
              "    </tr>\n",
              "    <tr>\n",
              "      <th>31/12/2006</th>\n",
              "      <td>Eucalipto</td>\n",
              "      <td>Eucalipto</td>\n",
              "      <td>Mato Grosso do Sul</td>\n",
              "      <td>119319.0</td>\n",
              "    </tr>\n",
              "    <tr>\n",
              "      <th>31/12/2006</th>\n",
              "      <td>Eucalipto</td>\n",
              "      <td>Eucalipto</td>\n",
              "      <td>Bahia</td>\n",
              "      <td>540172.0</td>\n",
              "    </tr>\n",
              "    <tr>\n",
              "      <th>31/12/2006</th>\n",
              "      <td>Eucalipto</td>\n",
              "      <td>Eucalipto</td>\n",
              "      <td>Rio Grande do Sul</td>\n",
              "      <td>184245.0</td>\n",
              "    </tr>\n",
              "  </tbody>\n",
              "</table>\n",
              "</div>"
            ],
            "text/plain": [
              "              Cultura    Espécie              Estado  Área (ha)\n",
              "Ano                                                            \n",
              "31/12/2006  Eucalipto  Eucalipto        Minas Gerais  1181429.0\n",
              "31/12/2006  Eucalipto  Eucalipto           São Paulo   915841.0\n",
              "31/12/2006  Eucalipto  Eucalipto  Mato Grosso do Sul   119319.0\n",
              "31/12/2006  Eucalipto  Eucalipto               Bahia   540172.0\n",
              "31/12/2006  Eucalipto  Eucalipto   Rio Grande do Sul   184245.0"
            ]
          },
          "metadata": {
            "tags": []
          },
          "execution_count": 247
        }
      ]
    },
    {
      "cell_type": "markdown",
      "metadata": {
        "id": "0VszIE7gWS_x"
      },
      "source": [
        "####################################################"
      ]
    },
    {
      "cell_type": "markdown",
      "metadata": {
        "id": "1VFuiSeYJXvz"
      },
      "source": [
        "Usando Groupby"
      ]
    },
    {
      "cell_type": "markdown",
      "metadata": {
        "id": "c0E_0TvVqYjp"
      },
      "source": [
        "bioma"
      ]
    },
    {
      "cell_type": "code",
      "metadata": {
        "id": "v8GcFuiWJhJB"
      },
      "source": [
        "ano_groupby = florestas_plantadas.groupby(by='Ano').head()"
      ],
      "execution_count": 248,
      "outputs": []
    },
    {
      "cell_type": "code",
      "metadata": {
        "id": "yIdkHxOImfUH",
        "colab": {
          "base_uri": "https://localhost:8080/",
          "height": 235
        },
        "outputId": "33bf126a-2495-4eff-cd6b-dbf32e386f32"
      },
      "source": [
        "ano_groupby.head()"
      ],
      "execution_count": 249,
      "outputs": [
        {
          "output_type": "execute_result",
          "data": {
            "text/html": [
              "<div>\n",
              "<style scoped>\n",
              "    .dataframe tbody tr th:only-of-type {\n",
              "        vertical-align: middle;\n",
              "    }\n",
              "\n",
              "    .dataframe tbody tr th {\n",
              "        vertical-align: top;\n",
              "    }\n",
              "\n",
              "    .dataframe thead th {\n",
              "        text-align: right;\n",
              "    }\n",
              "</style>\n",
              "<table border=\"1\" class=\"dataframe\">\n",
              "  <thead>\n",
              "    <tr style=\"text-align: right;\">\n",
              "      <th></th>\n",
              "      <th>Cultura</th>\n",
              "      <th>Espécie</th>\n",
              "      <th>Estado</th>\n",
              "      <th>Área (ha)</th>\n",
              "    </tr>\n",
              "    <tr>\n",
              "      <th>Ano</th>\n",
              "      <th></th>\n",
              "      <th></th>\n",
              "      <th></th>\n",
              "      <th></th>\n",
              "    </tr>\n",
              "  </thead>\n",
              "  <tbody>\n",
              "    <tr>\n",
              "      <th>31/12/2006</th>\n",
              "      <td>Eucalipto</td>\n",
              "      <td>Eucalipto</td>\n",
              "      <td>Minas Gerais</td>\n",
              "      <td>1181429.0</td>\n",
              "    </tr>\n",
              "    <tr>\n",
              "      <th>31/12/2006</th>\n",
              "      <td>Eucalipto</td>\n",
              "      <td>Eucalipto</td>\n",
              "      <td>São Paulo</td>\n",
              "      <td>915841.0</td>\n",
              "    </tr>\n",
              "    <tr>\n",
              "      <th>31/12/2006</th>\n",
              "      <td>Eucalipto</td>\n",
              "      <td>Eucalipto</td>\n",
              "      <td>Mato Grosso do Sul</td>\n",
              "      <td>119319.0</td>\n",
              "    </tr>\n",
              "    <tr>\n",
              "      <th>31/12/2006</th>\n",
              "      <td>Eucalipto</td>\n",
              "      <td>Eucalipto</td>\n",
              "      <td>Bahia</td>\n",
              "      <td>540172.0</td>\n",
              "    </tr>\n",
              "    <tr>\n",
              "      <th>31/12/2006</th>\n",
              "      <td>Eucalipto</td>\n",
              "      <td>Eucalipto</td>\n",
              "      <td>Rio Grande do Sul</td>\n",
              "      <td>184245.0</td>\n",
              "    </tr>\n",
              "  </tbody>\n",
              "</table>\n",
              "</div>"
            ],
            "text/plain": [
              "              Cultura    Espécie              Estado  Área (ha)\n",
              "Ano                                                            \n",
              "31/12/2006  Eucalipto  Eucalipto        Minas Gerais  1181429.0\n",
              "31/12/2006  Eucalipto  Eucalipto           São Paulo   915841.0\n",
              "31/12/2006  Eucalipto  Eucalipto  Mato Grosso do Sul   119319.0\n",
              "31/12/2006  Eucalipto  Eucalipto               Bahia   540172.0\n",
              "31/12/2006  Eucalipto  Eucalipto   Rio Grande do Sul   184245.0"
            ]
          },
          "metadata": {
            "tags": []
          },
          "execution_count": 249
        }
      ]
    },
    {
      "cell_type": "markdown",
      "metadata": {
        "id": "3Sf21oDCqase"
      },
      "source": [
        "Estado"
      ]
    },
    {
      "cell_type": "code",
      "metadata": {
        "id": "hJ2cdYC1Ny5H"
      },
      "source": [
        "estado_groupby = florestas_plantadas.groupby(by='Estado').head()"
      ],
      "execution_count": 250,
      "outputs": []
    },
    {
      "cell_type": "code",
      "metadata": {
        "id": "TKmDTg7smrM0",
        "colab": {
          "base_uri": "https://localhost:8080/",
          "height": 235
        },
        "outputId": "adda3c7d-eee0-4100-ac92-d2d9df436740"
      },
      "source": [
        "estado_groupby.head()"
      ],
      "execution_count": 251,
      "outputs": [
        {
          "output_type": "execute_result",
          "data": {
            "text/html": [
              "<div>\n",
              "<style scoped>\n",
              "    .dataframe tbody tr th:only-of-type {\n",
              "        vertical-align: middle;\n",
              "    }\n",
              "\n",
              "    .dataframe tbody tr th {\n",
              "        vertical-align: top;\n",
              "    }\n",
              "\n",
              "    .dataframe thead th {\n",
              "        text-align: right;\n",
              "    }\n",
              "</style>\n",
              "<table border=\"1\" class=\"dataframe\">\n",
              "  <thead>\n",
              "    <tr style=\"text-align: right;\">\n",
              "      <th></th>\n",
              "      <th>Cultura</th>\n",
              "      <th>Espécie</th>\n",
              "      <th>Estado</th>\n",
              "      <th>Área (ha)</th>\n",
              "    </tr>\n",
              "    <tr>\n",
              "      <th>Ano</th>\n",
              "      <th></th>\n",
              "      <th></th>\n",
              "      <th></th>\n",
              "      <th></th>\n",
              "    </tr>\n",
              "  </thead>\n",
              "  <tbody>\n",
              "    <tr>\n",
              "      <th>31/12/2006</th>\n",
              "      <td>Eucalipto</td>\n",
              "      <td>Eucalipto</td>\n",
              "      <td>Minas Gerais</td>\n",
              "      <td>1181429.0</td>\n",
              "    </tr>\n",
              "    <tr>\n",
              "      <th>31/12/2006</th>\n",
              "      <td>Eucalipto</td>\n",
              "      <td>Eucalipto</td>\n",
              "      <td>São Paulo</td>\n",
              "      <td>915841.0</td>\n",
              "    </tr>\n",
              "    <tr>\n",
              "      <th>31/12/2006</th>\n",
              "      <td>Eucalipto</td>\n",
              "      <td>Eucalipto</td>\n",
              "      <td>Mato Grosso do Sul</td>\n",
              "      <td>119319.0</td>\n",
              "    </tr>\n",
              "    <tr>\n",
              "      <th>31/12/2006</th>\n",
              "      <td>Eucalipto</td>\n",
              "      <td>Eucalipto</td>\n",
              "      <td>Bahia</td>\n",
              "      <td>540172.0</td>\n",
              "    </tr>\n",
              "    <tr>\n",
              "      <th>31/12/2006</th>\n",
              "      <td>Eucalipto</td>\n",
              "      <td>Eucalipto</td>\n",
              "      <td>Rio Grande do Sul</td>\n",
              "      <td>184245.0</td>\n",
              "    </tr>\n",
              "  </tbody>\n",
              "</table>\n",
              "</div>"
            ],
            "text/plain": [
              "              Cultura    Espécie              Estado  Área (ha)\n",
              "Ano                                                            \n",
              "31/12/2006  Eucalipto  Eucalipto        Minas Gerais  1181429.0\n",
              "31/12/2006  Eucalipto  Eucalipto           São Paulo   915841.0\n",
              "31/12/2006  Eucalipto  Eucalipto  Mato Grosso do Sul   119319.0\n",
              "31/12/2006  Eucalipto  Eucalipto               Bahia   540172.0\n",
              "31/12/2006  Eucalipto  Eucalipto   Rio Grande do Sul   184245.0"
            ]
          },
          "metadata": {
            "tags": []
          },
          "execution_count": 251
        }
      ]
    },
    {
      "cell_type": "code",
      "metadata": {
        "id": "4PizeJXqnGtX",
        "colab": {
          "base_uri": "https://localhost:8080/"
        },
        "outputId": "e7c17205-89d0-46a7-99d4-6570d70c9235"
      },
      "source": [
        "estado_groupby.min()"
      ],
      "execution_count": 252,
      "outputs": [
        {
          "output_type": "execute_result",
          "data": {
            "text/plain": [
              "Cultura      Eucalipto\n",
              "Espécie         Acácia\n",
              "Estado           Amapá\n",
              "Área (ha)            7\n",
              "dtype: object"
            ]
          },
          "metadata": {
            "tags": []
          },
          "execution_count": 252
        }
      ]
    },
    {
      "cell_type": "code",
      "metadata": {
        "id": "J8OuGhcTnRri",
        "colab": {
          "base_uri": "https://localhost:8080/"
        },
        "outputId": "34558a77-c3b2-4b95-e0f5-12f47064750a"
      },
      "source": [
        "estado_groupby.max()"
      ],
      "execution_count": 253,
      "outputs": [
        {
          "output_type": "execute_result",
          "data": {
            "text/plain": [
              "Cultura          Pinus\n",
              "Espécie           Teca\n",
              "Estado       Tocantins\n",
              "Área (ha)      1.3e+06\n",
              "dtype: object"
            ]
          },
          "metadata": {
            "tags": []
          },
          "execution_count": 253
        }
      ]
    },
    {
      "cell_type": "markdown",
      "metadata": {
        "id": "RN9_jjkCqe8d"
      },
      "source": [
        "Area Plantada\n"
      ]
    },
    {
      "cell_type": "code",
      "metadata": {
        "id": "Dv8rInjELdc1"
      },
      "source": [
        "area_plantada_groupby_max = florestas_plantadas.groupby(by='Área (ha)').head()"
      ],
      "execution_count": 254,
      "outputs": []
    },
    {
      "cell_type": "markdown",
      "metadata": {
        "id": "vb3pPoetGKcV"
      },
      "source": [
        "Insights de Dados"
      ]
    },
    {
      "cell_type": "markdown",
      "metadata": {
        "id": "8n4nijX1nvp_"
      },
      "source": [
        "maior desmatamento por estado"
      ]
    },
    {
      "cell_type": "code",
      "metadata": {
        "id": "qiTMdOm5s7zH"
      },
      "source": [
        "area_plantada = florestas_plantadas['Área (ha)'].values.reshape((-1, 1))"
      ],
      "execution_count": 255,
      "outputs": []
    },
    {
      "cell_type": "code",
      "metadata": {
        "id": "On88iwB4oGkf",
        "colab": {
          "base_uri": "https://localhost:8080/",
          "height": 939
        },
        "outputId": "544e5b7a-6c10-4122-91b5-6764e7ad594d"
      },
      "source": [
        "\n",
        "area_grouped = florestas_plantadas['Estado']\n",
        "estado_grouped = florestas_plantadas['Área (ha)']\n",
        " \n",
        "plt.bar(area_grouped,estado_grouped)\n",
        "plt.rcParams[\"figure.figsize\"] = [30, 30]\n",
        " \n",
        " \n",
        "plt.show()"
      ],
      "execution_count": 256,
      "outputs": [
        {
          "output_type": "display_data",
          "data": {
            "image/png": "[encoded data removed]",
            "text/plain": [
              "<Figure size 2160x2160 with 1 Axes>"
            ]
          },
          "metadata": {
            "tags": [],
            "needs_background": "light"
          }
        }
      ]
    },
    {
      "cell_type": "markdown",
      "metadata": {
        "id": "8dVPsZz1zg-Q"
      },
      "source": [
        "Conjuntos de Treino e Testes"
      ]
    },
    {
      "cell_type": "code",
      "metadata": {
        "id": "QsMkBkV_zl6K"
      },
      "source": [
        "from sklearn.model_selection import train_test_split\n",
        "x = area_plantada.astype('int64')\n",
        "y = area_plantada.astype('int64')\n",
        "x_train, x_test, y_train, y_test = train_test_split(\n",
        "    x, y, test_size=0.2, random_state=0\n",
        ")\n",
        "clf = SGDRegressor(loss='squared_loss',\n",
        "                   learning_rate='constant',\n",
        "                   max_iter=10,\n",
        "                   eta0=0.01,\n",
        "                   verbose=1,\n",
        "                   tol=None,\n",
        "                   random_state=123)"
      ],
      "execution_count": 257,
      "outputs": []
    },
    {
      "cell_type": "markdown",
      "metadata": {
        "id": "7TArzIxL6Vfn"
      },
      "source": [
        "Treinando estimador\n"
      ]
    },
    {
      "cell_type": "code",
      "metadata": {
        "id": "V_pwIoD-6YdZ",
        "colab": {
          "base_uri": "https://localhost:8080/"
        },
        "outputId": "0c592bf1-55a7-4746-c5dc-903f4806759d"
      },
      "source": [
        "from sklearn.linear_model import LinearRegression\n",
        "clf = LinearRegression()\n",
        "clf.fit(x_train, y_train)"
      ],
      "execution_count": 258,
      "outputs": [
        {
          "output_type": "execute_result",
          "data": {
            "text/plain": [
              "LinearRegression(copy_X=True, fit_intercept=True, n_jobs=None, normalize=False)"
            ]
          },
          "metadata": {
            "tags": []
          },
          "execution_count": 258
        }
      ]
    },
    {
      "cell_type": "markdown",
      "metadata": {
        "id": "4xxZWg_5ZR24"
      },
      "source": [
        "Testando estimador"
      ]
    },
    {
      "cell_type": "code",
      "metadata": {
        "colab": {
          "base_uri": "https://localhost:8080/"
        },
        "id": "o-uq4XzIZUUl",
        "outputId": "a7288aac-da3d-4271-a0cc-161e76dc40a6"
      },
      "source": [
        "# Regressor\n",
        "y_pred = clf.predict(x_test)\n",
        "sk.metrics.r2_score(y_test, y_pred)"
      ],
      "execution_count": 260,
      "outputs": [
        {
          "output_type": "execute_result",
          "data": {
            "text/plain": [
              "0.999999999527077"
            ]
          },
          "metadata": {
            "tags": []
          },
          "execution_count": 260
        }
      ]
    },
    {
      "cell_type": "code",
      "metadata": {
        "colab": {
          "base_uri": "https://localhost:8080/"
        },
        "id": "SDttqGL6aG7a",
        "outputId": "4c399d3f-35af-4c66-8b69-3c1361ec70b7"
      },
      "source": [
        "clf.score(x_test, y_test)"
      ],
      "execution_count": 262,
      "outputs": [
        {
          "output_type": "execute_result",
          "data": {
            "text/plain": [
              "0.999999999527077"
            ]
          },
          "metadata": {
            "tags": []
          },
          "execution_count": 262
        }
      ]
    }
  ]
}